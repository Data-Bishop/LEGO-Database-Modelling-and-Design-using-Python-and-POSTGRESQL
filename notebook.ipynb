{
 "cells": [
  {
   "cell_type": "markdown",
   "metadata": {},
   "source": [
    "#### Importing needed libraries"
   ]
  },
  {
   "cell_type": "code",
   "execution_count": 2,
   "metadata": {},
   "outputs": [],
   "source": [
    "import pandas as pd\n",
    "import psycopg2"
   ]
  },
  {
   "cell_type": "markdown",
   "metadata": {},
   "source": [
    "#### Creating a connection to the default postgres database\n",
    "\n",
    "Take note of the use of the try and except block. This is done so as to catch any errors that may occur during the execution of the code block."
   ]
  },
  {
   "cell_type": "code",
   "execution_count": 3,
   "metadata": {},
   "outputs": [],
   "source": [
    "try:\n",
    "    conn = psycopg2.connect(host=\"localhost\", database=\"postgres\", user=\"postgres\", password=\"Databishop\")\n",
    "except psycopg2.Error as e:\n",
    "    print(e)"
   ]
  },
  {
   "cell_type": "code",
   "execution_count": 4,
   "metadata": {},
   "outputs": [],
   "source": [
    "# Using the connection to get a cursor to be used for makign queries\n",
    "try:\n",
    "    cur = conn.cursor()\n",
    "except psycopg2.Error as e:\n",
    "    print(e)\n",
    "\n",
    "# Setting autocommit for queries to True    \n",
    "conn.set_session(autocommit=True)"
   ]
  },
  {
   "cell_type": "markdown",
   "metadata": {},
   "source": [
    "#### Creating the LEGO Database"
   ]
  },
  {
   "cell_type": "code",
   "execution_count": 5,
   "metadata": {},
   "outputs": [
    {
     "name": "stdout",
     "output_type": "stream",
     "text": [
      "database \"legodb\" already exists\n",
      "\n"
     ]
    }
   ],
   "source": [
    "# Creating Database with name legoDB\n",
    "try:\n",
    "    cur.execute(\"CREATE DATABASE legodb\")\n",
    "except psycopg2.Error as e:\n",
    "    print(e)"
   ]
  },
  {
   "cell_type": "markdown",
   "metadata": {},
   "source": [
    "#### Reconnecting to the LEGO Database"
   ]
  },
  {
   "cell_type": "code",
   "execution_count": 6,
   "metadata": {},
   "outputs": [],
   "source": [
    "# Clsoing the initial connection to the default database\n",
    "try:\n",
    "    conn.close()\n",
    "except psycopg2.Error as e:\n",
    "    print(e)\n",
    "\n",
    "# Connecting to the LEGO Database    \n",
    "try:\n",
    "    conn = psycopg2.connect(host=\"localhost\", database=\"legodb\", user=\"postgres\", password=\"Databishop\")\n",
    "except psycopg2.Error as e:\n",
    "    print(e)\n",
    "\n",
    "# Getting the cursor    \n",
    "try:\n",
    "    cur = conn.cursor()\n",
    "except psycopg2.Error as e:\n",
    "    print(e)\n",
    "    \n",
    "# Setting autocommit to True\n",
    "conn.set_session(autocommit=True)"
   ]
  },
  {
   "cell_type": "markdown",
   "metadata": {},
   "source": [
    "#### Creating the inventories table according to the defined schema"
   ]
  },
  {
   "cell_type": "code",
   "execution_count": 8,
   "metadata": {},
   "outputs": [],
   "source": [
    "try:\n",
    "    cur.execute(\"CREATE TABLE IF NOT EXISTS inventories \\\n",
    "        (id INTEGER PRIMARY KEY,\\\n",
    "        version INTEGER,\\\n",
    "        set_number VARCHAR(50));\")\n",
    "except psycopg2.Error as e:\n",
    "    print(e)"
   ]
  },
  {
   "cell_type": "markdown",
   "metadata": {},
   "source": [
    "#### Creating the colours table according to the defined schema"
   ]
  },
  {
   "cell_type": "code",
   "execution_count": 9,
   "metadata": {},
   "outputs": [],
   "source": [
    "try:\n",
    "    cur.execute(\"CREATE TABLE IF NOT EXISTS colours \\\n",
    "        (id INTEGER PRIMARY KEY,\\\n",
    "        name VARCHAR(50),\\\n",
    "        rgb VARCHAR(6),\\\n",
    "        is_trans BOOLEAN );\")\n",
    "except psycopg2.Error as e:\n",
    "    print(e)"
   ]
  },
  {
   "cell_type": "markdown",
   "metadata": {},
   "source": [
    "#### Creating the parts table according to the defined schema"
   ]
  },
  {
   "cell_type": "code",
   "execution_count": 11,
   "metadata": {},
   "outputs": [],
   "source": [
    "try:\n",
    "    cur.execute(\"CREATE TABLE IF NOT EXISTS parts \\\n",
    "    (part_number VARCHAR(50) PRIMARY KEY,\\\n",
    "    name TEXT,\\\n",
    "    part_cat_id INTEGER);\")\n",
    "except psycopg2.Error as e:\n",
    "    print(e)"
   ]
  },
  {
   "cell_type": "markdown",
   "metadata": {},
   "source": [
    "#### Creating the sets table according to the defined schema"
   ]
  },
  {
   "cell_type": "code",
   "execution_count": 12,
   "metadata": {},
   "outputs": [],
   "source": [
    "try:\n",
    "    cur.execute(\"CREATE TABLE IF NOT EXISTS sets \\\n",
    "    (set_number VARCHAR(10) PRIMARY KEY,\\\n",
    "    name VARCHAR(50),\\\n",
    "    year INTEGER,\\\n",
    "    theme_id INTEGER,\\\n",
    "    num_parts INTEGER);\")\n",
    "except psycopg2.Error as e:\n",
    "    print(e)"
   ]
  },
  {
   "cell_type": "markdown",
   "metadata": {},
   "source": [
    "#### Creating the themes table according to the defined schema"
   ]
  },
  {
   "cell_type": "code",
   "execution_count": 13,
   "metadata": {},
   "outputs": [],
   "source": [
    "try:\n",
    "    cur.execute(\"CREATE TABLE IF NOT EXISTS themes \\\n",
    "        (id INTEGER PRIMARY KEY,\\\n",
    "        name VARCHAR(50),\\\n",
    "        parent_id INTEGER);\")\n",
    "except psycopg2.Error as e:\n",
    "    print(e)"
   ]
  },
  {
   "cell_type": "markdown",
   "metadata": {},
   "source": [
    "#### Creating the part categories table according to the defined schema"
   ]
  },
  {
   "cell_type": "code",
   "execution_count": 19,
   "metadata": {},
   "outputs": [],
   "source": [
    "try:\n",
    "    cur.execute(\"CREATE TABLE IF NOT EXISTS part_categories \\\n",
    "        (id INTEGER PRIMARY KEY,\\\n",
    "        name VARCHAR(50));\")\n",
    "except psycopg2.Error as e:\n",
    "    print(e)"
   ]
  },
  {
   "cell_type": "markdown",
   "metadata": {},
   "source": [
    "#### Creating the inventory sets table according to the defined schema"
   ]
  },
  {
   "cell_type": "code",
   "execution_count": 16,
   "metadata": {},
   "outputs": [],
   "source": [
    "try:\n",
    "    cur.execute(\"CREATE TABLE IF NOT EXISTS inventory_sets\\\n",
    "        (inventory_id INTEGER,\\\n",
    "        set_number VARCHAR(10),\\\n",
    "        quantity INTEGER);\")\n",
    "except psycopg2.Error as e:\n",
    "    print(e)"
   ]
  },
  {
   "cell_type": "markdown",
   "metadata": {},
   "source": [
    "#### Creating the inventory parts table according to the defined schema"
   ]
  },
  {
   "cell_type": "code",
   "execution_count": 17,
   "metadata": {},
   "outputs": [],
   "source": [
    "try:\n",
    "    cur.execute(\"CREATE TABLE IF NOT EXISTS inventory_parts\\\n",
    "        (inventory_id INTEGER,\\\n",
    "        part_number VARCHAR(50),\\\n",
    "        colour_id INTEGER,\\\n",
    "        quantity INTEGER,\\\n",
    "        is_spare BOOLEAN);\")\n",
    "except psycopg2.Error as e:\n",
    "    print(e)"
   ]
  },
  {
   "cell_type": "markdown",
   "metadata": {},
   "source": [
    "#### Adding foreign key constraints to required tables"
   ]
  },
  {
   "cell_type": "code",
   "execution_count": 20,
   "metadata": {},
   "outputs": [],
   "source": [
    "# Adding a foreign key constraint to the inventories table referencing the sets table\n",
    "try:\n",
    "    cur.execute(\"ALTER TABLE inventories \\\n",
    "                    ADD CONSTRAINT fk_set\\\n",
    "                    FOREIGN KEY(set_number)\\\n",
    "                    REFERENCES sets(set_number)\\\n",
    "                    ON DELETE CASCADE;\")\n",
    "except psycopg2.Error as e:\n",
    "    print(e)\n",
    "    \n",
    "# Adding a foreign key constraint to the sets table referencing the themes table\n",
    "try:\n",
    "    cur.execute(\"ALTER TABLE sets \\\n",
    "                    ADD CONSTRAINT fk_theme\\\n",
    "                    FOREIGN KEY(theme_id)\\\n",
    "                    REFERENCES themes(id)\\\n",
    "                    ON DELETE CASCADE;\")\n",
    "except psycopg2.Error as e:\n",
    "    print(e)\n",
    "\n",
    "# Adding a foreign key constraint to the parts table referencing the parts categories table\n",
    "try:\n",
    "    cur.execute(\"ALTER TABLE parts \\\n",
    "                    ADD CONSTRAINT fk_partcat\\\n",
    "                    FOREIGN KEY(part_cat_id)\\\n",
    "                    REFERENCES part_categories(id)\\\n",
    "                    ON DELETE CASCADE;\")\n",
    "except psycopg2.Error as e:\n",
    "    print(e)\n",
    "    \n",
    "# Adding a foreign key constraint to the inventory parts table referencing the inventories categories table\n",
    "try:\n",
    "    cur.execute(\"ALTER TABLE inventory_parts \\\n",
    "                    ADD CONSTRAINT fk_inventory\\\n",
    "                    FOREIGN KEY(inventory_id)\\\n",
    "                    REFERENCES inventories(id)\\\n",
    "                    ON DELETE CASCADE;\")\n",
    "except psycopg2.Error as e:\n",
    "    print(e)\n",
    "    \n",
    "# Adding a foreign key constraint to the inventory parts table referencing the parts table\n",
    "try:\n",
    "    cur.execute(\"ALTER TABLE inventory_parts \\\n",
    "                    ADD CONSTRAINT fk_partnum\\\n",
    "                    FOREIGN KEY(part_number)\\\n",
    "                    REFERENCES parts(part_number)\\\n",
    "                    ON DELETE CASCADE;\")\n",
    "except psycopg2.Error as e:\n",
    "    print(e)\n",
    "    \n",
    "# Adding a foreign key constraint to the inventory parts table referencing the colours table\n",
    "try:\n",
    "    cur.execute(\"ALTER TABLE inventory_parts \\\n",
    "                    ADD CONSTRAINT fk_colourid\\\n",
    "                    FOREIGN KEY(colour_id)\\\n",
    "                    REFERENCES colours(id)\\\n",
    "                    ON DELETE CASCADE;\")\n",
    "except psycopg2.Error as e:\n",
    "    print(e)\n",
    "    \n",
    "# Adding a foreign key constraint to the inventory sets table referencing the inventories table\n",
    "try:\n",
    "    cur.execute(\"ALTER TABLE inventory_sets \\\n",
    "                    ADD CONSTRAINT fk_inventoryid\\\n",
    "                    FOREIGN KEY(inventory_id)\\\n",
    "                    REFERENCES inventories(id)\\\n",
    "                    ON DELETE CASCADE;\")\n",
    "except psycopg2.Error as e:\n",
    "    print(e)\n",
    "    \n",
    "# Adding a foreign key constraint to the inventory sets table referencing the sets table\n",
    "try:\n",
    "    cur.execute(\"ALTER TABLE inventory_sets \\\n",
    "                    ADD CONSTRAINT fk_setnum\\\n",
    "                    FOREIGN KEY(set_number)\\\n",
    "                    REFERENCES sets(set_number)\\\n",
    "                    ON DELETE CASCADE;\")\n",
    "except psycopg2.Error as e:\n",
    "    print(e)"
   ]
  }
 ],
 "metadata": {
  "kernelspec": {
   "display_name": "Python 3",
   "language": "python",
   "name": "python3"
  },
  "language_info": {
   "codemirror_mode": {
    "name": "ipython",
    "version": 3
   },
   "file_extension": ".py",
   "mimetype": "text/x-python",
   "name": "python",
   "nbconvert_exporter": "python",
   "pygments_lexer": "ipython3",
   "version": "3.11.2"
  }
 },
 "nbformat": 4,
 "nbformat_minor": 2
}
